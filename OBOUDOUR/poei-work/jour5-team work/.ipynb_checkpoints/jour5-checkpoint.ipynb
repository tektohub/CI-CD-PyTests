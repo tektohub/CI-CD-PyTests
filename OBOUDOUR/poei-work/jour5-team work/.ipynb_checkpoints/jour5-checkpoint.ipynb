{
 "cells": [
  {
   "cell_type": "code",
   "execution_count": 1,
   "metadata": {
    "collapsed": true
   },
   "outputs": [],
   "source": [
    "import time\n",
    "import datetime\n",
    "import re\n",
    "import pandas as pd"
   ]
  },
  {
   "cell_type": "code",
   "execution_count": 50,
   "metadata": {
    "collapsed": false
   },
   "outputs": [
    {
     "name": "stdout",
     "output_type": "stream",
     "text": [
      "19-11-29 11:30:13.411489\n",
      "19-11-29 11:30:18.426852\n",
      "0:00:05.015363\n",
      "5\n",
      "15363\n"
     ]
    }
   ],
   "source": [
    "now_1 = datetime.datetime.now()\n",
    "print(now_1.strftime(\"%y-%m-%d %H:%M:%S.%f\"))\n",
    "time.sleep(5)\n",
    "now_2 = datetime.datetime.now()\n",
    "print(now_2.strftime(\"%y-%m-%d %H:%M:%S.%f\"))\n",
    "\n",
    "time_delta_2 = abs(now_1 - now_2)\n",
    "print(time_delta_2)\n",
    "print(time_delta_2.seconds)\n",
    "print(time_delta_2.microseconds)"
   ]
  },
  {
   "cell_type": "code",
   "execution_count": 56,
   "metadata": {
    "collapsed": false
   },
   "outputs": [
    {
     "name": "stdout",
     "output_type": "stream",
     "text": [
      "Vous avez mis 5 secondes pour répondre\n"
     ]
    }
   ],
   "source": [
    "print(\"Vous avez mis\",time_delta_2.seconds,\"secondes pour répondre\")"
   ]
  },
  {
   "cell_type": "code",
   "execution_count": 57,
   "metadata": {
    "collapsed": false
   },
   "outputs": [
    {
     "data": {
      "text/plain": [
       "2"
      ]
     },
     "execution_count": 57,
     "metadata": {},
     "output_type": "execute_result"
    }
   ],
   "source": [
    "int(2.6)"
   ]
  },
  {
   "cell_type": "code",
   "execution_count": 73,
   "metadata": {
    "collapsed": true
   },
   "outputs": [],
   "source": [
    "name = \"12 34- question 34\""
   ]
  },
  {
   "cell_type": "code",
   "execution_count": 74,
   "metadata": {
    "collapsed": false
   },
   "outputs": [
    {
     "name": "stdout",
     "output_type": "stream",
     "text": [
      "12\n"
     ]
    }
   ],
   "source": [
    "digit_search=re.search('\\d+', name).group()\n",
    "print(digit_search)"
   ]
  },
  {
   "cell_type": "code",
   "execution_count": 24,
   "metadata": {
    "collapsed": false
   },
   "outputs": [
    {
     "data": {
      "text/html": [
       "<div>\n",
       "<table border=\"1\" class=\"dataframe\">\n",
       "  <thead>\n",
       "    <tr style=\"text-align: right;\">\n",
       "      <th></th>\n",
       "      <th>id_question</th>\n",
       "      <th>candidat</th>\n",
       "      <th>reponse</th>\n",
       "      <th>time_min</th>\n",
       "      <th>time_s</th>\n",
       "    </tr>\n",
       "  </thead>\n",
       "  <tbody>\n",
       "    <tr>\n",
       "      <th>0</th>\n",
       "      <td>2</td>\n",
       "      <td>jerome</td>\n",
       "      <td>azzz</td>\n",
       "      <td>0</td>\n",
       "      <td>1.0</td>\n",
       "    </tr>\n",
       "    <tr>\n",
       "      <th>1</th>\n",
       "      <td>3</td>\n",
       "      <td>jerome</td>\n",
       "      <td>azaeaeaee</td>\n",
       "      <td>0</td>\n",
       "      <td>1.0</td>\n",
       "    </tr>\n",
       "    <tr>\n",
       "      <th>2</th>\n",
       "      <td>1</td>\n",
       "      <td>jerome</td>\n",
       "      <td>qqqq</td>\n",
       "      <td>0</td>\n",
       "      <td>1.0</td>\n",
       "    </tr>\n",
       "    <tr>\n",
       "      <th>3</th>\n",
       "      <td>4</td>\n",
       "      <td>ouarda</td>\n",
       "      <td>zefijijio</td>\n",
       "      <td>0</td>\n",
       "      <td>2.0</td>\n",
       "    </tr>\n",
       "    <tr>\n",
       "      <th>4</th>\n",
       "      <td>3</td>\n",
       "      <td>ouarda</td>\n",
       "      <td>zefl,zefml,fml</td>\n",
       "      <td>0</td>\n",
       "      <td>1.0</td>\n",
       "    </tr>\n",
       "    <tr>\n",
       "      <th>5</th>\n",
       "      <td>1</td>\n",
       "      <td>ouarda</td>\n",
       "      <td>eeffzezefefzezeef</td>\n",
       "      <td>0</td>\n",
       "      <td>5.0</td>\n",
       "    </tr>\n",
       "    <tr>\n",
       "      <th>6</th>\n",
       "      <td>1</td>\n",
       "      <td>Allal</td>\n",
       "      <td>print</td>\n",
       "      <td>0</td>\n",
       "      <td>3.0</td>\n",
       "    </tr>\n",
       "    <tr>\n",
       "      <th>7</th>\n",
       "      <td>2</td>\n",
       "      <td>Allal</td>\n",
       "      <td>%2</td>\n",
       "      <td>0</td>\n",
       "      <td>7.0</td>\n",
       "    </tr>\n",
       "    <tr>\n",
       "      <th>8</th>\n",
       "      <td>4</td>\n",
       "      <td>Allal</td>\n",
       "      <td>min</td>\n",
       "      <td>0</td>\n",
       "      <td>3.0</td>\n",
       "    </tr>\n",
       "    <tr>\n",
       "      <th>9</th>\n",
       "      <td>2</td>\n",
       "      <td>jerome1</td>\n",
       "      <td>aasa</td>\n",
       "      <td>0</td>\n",
       "      <td>1.0</td>\n",
       "    </tr>\n",
       "    <tr>\n",
       "      <th>10</th>\n",
       "      <td>4</td>\n",
       "      <td>jerome1</td>\n",
       "      <td>rrgg</td>\n",
       "      <td>0</td>\n",
       "      <td>2.0</td>\n",
       "    </tr>\n",
       "    <tr>\n",
       "      <th>11</th>\n",
       "      <td>1</td>\n",
       "      <td>jerome1</td>\n",
       "      <td>rrrrrr</td>\n",
       "      <td>0</td>\n",
       "      <td>1.0</td>\n",
       "    </tr>\n",
       "    <tr>\n",
       "      <th>12</th>\n",
       "      <td>2</td>\n",
       "      <td>jerome2</td>\n",
       "      <td>az</td>\n",
       "      <td>0</td>\n",
       "      <td>1.0</td>\n",
       "    </tr>\n",
       "    <tr>\n",
       "      <th>13</th>\n",
       "      <td>1</td>\n",
       "      <td>jerome2</td>\n",
       "      <td>zaaz</td>\n",
       "      <td>0</td>\n",
       "      <td>0.0</td>\n",
       "    </tr>\n",
       "    <tr>\n",
       "      <th>14</th>\n",
       "      <td>4</td>\n",
       "      <td>jerome2</td>\n",
       "      <td>azaz</td>\n",
       "      <td>0</td>\n",
       "      <td>0.0</td>\n",
       "    </tr>\n",
       "    <tr>\n",
       "      <th>15</th>\n",
       "      <td>4</td>\n",
       "      <td>jerome6</td>\n",
       "      <td>zeeze</td>\n",
       "      <td>0</td>\n",
       "      <td>1.0</td>\n",
       "    </tr>\n",
       "    <tr>\n",
       "      <th>16</th>\n",
       "      <td>2</td>\n",
       "      <td>jerome6</td>\n",
       "      <td>zezezezezeze</td>\n",
       "      <td>0</td>\n",
       "      <td>1.0</td>\n",
       "    </tr>\n",
       "    <tr>\n",
       "      <th>17</th>\n",
       "      <td>3</td>\n",
       "      <td>jerome6</td>\n",
       "      <td>asassa</td>\n",
       "      <td>0</td>\n",
       "      <td>1.0</td>\n",
       "    </tr>\n",
       "    <tr>\n",
       "      <th>18</th>\n",
       "      <td>1</td>\n",
       "      <td>jerome</td>\n",
       "      <td>zzdzd</td>\n",
       "      <td>0</td>\n",
       "      <td>0.0</td>\n",
       "    </tr>\n",
       "    <tr>\n",
       "      <th>19</th>\n",
       "      <td>3</td>\n",
       "      <td>jerome</td>\n",
       "      <td>zddzd</td>\n",
       "      <td>0</td>\n",
       "      <td>0.0</td>\n",
       "    </tr>\n",
       "    <tr>\n",
       "      <th>20</th>\n",
       "      <td>4</td>\n",
       "      <td>jerome</td>\n",
       "      <td>zddzzd</td>\n",
       "      <td>0</td>\n",
       "      <td>0.0</td>\n",
       "    </tr>\n",
       "  </tbody>\n",
       "</table>\n",
       "</div>"
      ],
      "text/plain": [
       "    id_question candidat            reponse  time_min  time_s\n",
       "0             2   jerome               azzz         0     1.0\n",
       "1             3   jerome          azaeaeaee         0     1.0\n",
       "2             1   jerome               qqqq         0     1.0\n",
       "3             4   ouarda          zefijijio         0     2.0\n",
       "4             3   ouarda     zefl,zefml,fml         0     1.0\n",
       "5             1   ouarda  eeffzezefefzezeef         0     5.0\n",
       "6             1    Allal              print         0     3.0\n",
       "7             2    Allal                 %2         0     7.0\n",
       "8             4    Allal                min         0     3.0\n",
       "9             2  jerome1               aasa         0     1.0\n",
       "10            4  jerome1               rrgg         0     2.0\n",
       "11            1  jerome1             rrrrrr         0     1.0\n",
       "12            2  jerome2                 az         0     1.0\n",
       "13            1  jerome2               zaaz         0     0.0\n",
       "14            4  jerome2               azaz         0     0.0\n",
       "15            4  jerome6              zeeze         0     1.0\n",
       "16            2  jerome6       zezezezezeze         0     1.0\n",
       "17            3  jerome6             asassa         0     1.0\n",
       "18            1   jerome              zzdzd         0     0.0\n",
       "19            3   jerome              zddzd         0     0.0\n",
       "20            4   jerome             zddzzd         0     0.0"
      ]
     },
     "execution_count": 24,
     "metadata": {},
     "output_type": "execute_result"
    }
   ],
   "source": [
    "data_ = pd.read_csv(\"reponses_candidats.txt\")\n",
    "data_"
   ]
  },
  {
   "cell_type": "code",
   "execution_count": 32,
   "metadata": {
    "collapsed": false
   },
   "outputs": [
    {
     "name": "stdout",
     "output_type": "stream",
     "text": [
      "[0.5, 2.6666666666666665, 4.333333333333333, 1.3333333333333333, 0.3333333333333333, 1.0]\n"
     ]
    }
   ],
   "source": [
    "candidat_mean_list=[]\n",
    "candidat_list = data_[\"candidat\"]\n",
    "candidat_list = list(dict.fromkeys(candidat_list))\n",
    "\n",
    "for candidat_name in candidat_list:\n",
    "    data_candidat = data_.loc[data_['candidat'] == candidat_name]\n",
    "    candidat_mean_list.append(data_candidat[\"time_s\"].mean())\n",
    "    \n",
    "print(candidat_mean_list)"
   ]
  },
  {
   "cell_type": "code",
   "execution_count": 35,
   "metadata": {
    "collapsed": false
   },
   "outputs": [
    {
     "name": "stdout",
     "output_type": "stream",
     "text": [
      "Le candidat jerome a mis en moyenne 0.5 secondes pour répondre\n",
      "\n",
      "Le candidat ouarda a mis en moyenne 2.6666666666666665 secondes pour répondre\n",
      "\n",
      "Le candidat Allal a mis en moyenne 4.333333333333333 secondes pour répondre\n",
      "\n",
      "Le candidat jerome1 a mis en moyenne 1.3333333333333333 secondes pour répondre\n",
      "\n",
      "Le candidat jerome2 a mis en moyenne 0.3333333333333333 secondes pour répondre\n",
      "\n",
      "Le candidat jerome6 a mis en moyenne 1.0 secondes pour répondre\n",
      "\n"
     ]
    }
   ],
   "source": [
    "for i in range(len(candidat_list)):\n",
    "    print(\"Le candidat\",candidat_list[i],\"a mis en moyenne\",candidat_mean_list[i],\"secondes pour répondre\\n\")"
   ]
  },
  {
   "cell_type": "code",
   "execution_count": null,
   "metadata": {
    "collapsed": true
   },
   "outputs": [],
   "source": []
  }
 ],
 "metadata": {
  "kernelspec": {
   "display_name": "Python 3",
   "language": "python",
   "name": "python3"
  },
  "language_info": {
   "codemirror_mode": {
    "name": "ipython",
    "version": 3
   },
   "file_extension": ".py",
   "mimetype": "text/x-python",
   "name": "python",
   "nbconvert_exporter": "python",
   "pygments_lexer": "ipython3",
   "version": "3.6.0"
  }
 },
 "nbformat": 4,
 "nbformat_minor": 2
}
